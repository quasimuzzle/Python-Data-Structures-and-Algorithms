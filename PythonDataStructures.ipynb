{
 "cells": [
  {
   "cell_type": "markdown",
   "metadata": {},
   "source": [
    "### <code class=\"lang-markdown\">СТРУКТУРЫ ДАННЫХ В PYTHON</code>\n",
    "\n",
    "* Структуры данных используются для хранения и управления сложными данными\n",
    "* Структуры данных в Python - это контейнеры, позволяющие эффективно управлять данными, огранизовывать и осуществлять поиск\n",
    "* Контейнеры организованы в коллекции (группы элементов данных, которые требуется хранить и обрабатывать совместно)\n",
    "\n",
    "\n",
    "<code class=\"lang-markdown\">ПЯТЬ СТРУКТУР ДАННЫХ ДЛЯ ХРАНЕНИЯ КОЛЛЕКЦИЙ</code>\n",
    "\n",
    "\n",
    "| <!-- -->      | <!-- -->        | <!-- -->      |\n",
    "|:-------------:|:---------------:|:-------------:|\n",
    "| List | Список | Упорядоченная изменяемая последовательность элементов (элементы данных в списке могут быть разных типов)|\n",
    "| Tuple | Кортеж | Упорядоченная неизменяемая последовательность элементов|\n",
    "| Set | Множество |Неупорядоченная последовательность элементов|\n",
    "| Dictionary | Словарь | Неупорядоченная последовательность пар «ключ — значение»|\n",
    "| DataFrame| |  Двумерная структура для хранения двумерных данных|\n",
    "\n"
   ]
  },
  {
   "cell_type": "markdown",
   "metadata": {},
   "source": [
    "## List (список)"
   ]
  },
  {
   "cell_type": "code",
   "execution_count": 2,
   "metadata": {},
   "outputs": [
    {
     "name": "stdout",
     "output_type": "stream",
     "text": [
      "['Anya', 'Irma', 20, True]\n"
     ]
    }
   ],
   "source": [
    "# List \n",
    "# одномерная изменяемая структура данных (внутр. этапы алгоритма)\n",
    "aList = ['Anya', 'Irma', 20, True]\n",
    "print(aList)"
   ]
  },
  {
   "cell_type": "code",
   "execution_count": 8,
   "metadata": {},
   "outputs": [
    {
     "name": "stdout",
     "output_type": "stream",
     "text": [
      "Yellow and Red\n"
     ]
    }
   ],
   "source": [
    "# Индексация списка \n",
    "colors = ['Red', 'Green', 'Blue', 'Yellow']\n",
    "print(colors[3], 'and', colors[0])"
   ]
  },
  {
   "cell_type": "code",
   "execution_count": 13,
   "metadata": {},
   "outputs": [
    {
     "name": "stdout",
     "output_type": "stream",
     "text": [
      "['Red', 'Green']\n",
      "['Blue', 'Yellow']\n",
      "\n",
      "['Red', 'Green', 'Blue']\n"
     ]
    }
   ],
   "source": [
    "# Срез списка\n",
    "colors = ['Red', 'Green', 'Blue', 'Yellow']\n",
    "print(colors[0:2], colors[2:], sep= '\\n', end = '\\n\\n')\n",
    "print(colors[:-1]) #отрицательная индексация "
   ]
  },
  {
   "cell_type": "code",
   "execution_count": 17,
   "metadata": {},
   "outputs": [
    {
     "name": "stdout",
     "output_type": "stream",
     "text": [
      "567\n",
      "67.4\n",
      "anya\n"
     ]
    }
   ],
   "source": [
    "#Вложенность\n",
    "a = [1, 2, [2, 4, 567, -45, 67.4], ['anya', 2023, False]]\n",
    "print( max(a[2]), a[2][4], a[3][-3], sep = \"\\n\" )"
   ]
  },
  {
   "cell_type": "code",
   "execution_count": 23,
   "metadata": {},
   "outputs": [
    {
     "name": "stdout",
     "output_type": "stream",
     "text": [
      "Red lable\n",
      "Green lable\n",
      "Blue lable\n",
      "Yellow lable\n"
     ]
    }
   ],
   "source": [
    "#Итерация\n",
    "colors = ['Red', 'Green', 'Blue', 'Yellow']\n",
    "for i in colors:\n",
    "    print( i + ' lable')"
   ]
  },
  {
   "cell_type": "markdown",
   "metadata": {},
   "source": [
    "### Лямбда-функции (анонимные функции) для работы со списками\n",
    "\n",
    "Применение:\n",
    "* Фильтрация данных\n",
    "* Преобразование данных\n",
    "* Агрегирование данных"
   ]
  },
  {
   "cell_type": "markdown",
   "metadata": {},
   "source": [
    "### filter(lambda())"
   ]
  },
  {
   "cell_type": "code",
   "execution_count": 1,
   "metadata": {},
   "outputs": [
    {
     "data": {
      "text/plain": [
       "[-5, -10, 10]"
      ]
     },
     "execution_count": 1,
     "metadata": {},
     "output_type": "execute_result"
    }
   ],
   "source": [
    "a = [-5, 200, 300, -10, 10, 1000]\n",
    "list(filter(lambda i: i < 100, a))"
   ]
  },
  {
   "cell_type": "markdown",
   "metadata": {},
   "source": [
    "### map(lambda())"
   ]
  },
  {
   "cell_type": "code",
   "execution_count": 38,
   "metadata": {},
   "outputs": [
    {
     "name": "stdout",
     "output_type": "stream",
     "text": [
      "[-5, 200, 300, -10, 10, 1000]\n",
      "[-10, 400, 600, -20, 20, 2000]\n"
     ]
    }
   ],
   "source": [
    "#Преобразование данных\n",
    "a = [-5, 200, 300, -10, 10, 1000]\n",
    "new_a = list(map(lambda i: i*2, a))\n",
    "print(a, new_a, sep = \"\\n\")\n"
   ]
  },
  {
   "cell_type": "markdown",
   "metadata": {},
   "source": [
    "### reduce()\n",
    "\n",
    "рекурсивно применяет функцию к паре значений для каждого аргумента"
   ]
  },
  {
   "cell_type": "code",
   "execution_count": 40,
   "metadata": {},
   "outputs": [
    {
     "data": {
      "text/plain": [
       "270"
      ]
     },
     "execution_count": 40,
     "metadata": {},
     "output_type": "execute_result"
    }
   ],
   "source": [
    "# Агрегирование данных \n",
    "\n",
    "from functools import reduce\n",
    "def doSum(x1, x2):\n",
    "    return x1+x2\n",
    "x = reduce(doSum, [100, 122, 33, 4, 5, 6])\n",
    "x\n",
    "\n",
    "# doSum() критерий агрегирования \n",
    "# functools функция агрегирования \n"
   ]
  },
  {
   "cell_type": "markdown",
   "metadata": {},
   "source": [
    "### range()\n",
    "автоматическое добавление последовательностей чисел в список"
   ]
  },
  {
   "cell_type": "code",
   "execution_count": 2,
   "metadata": {},
   "outputs": [
    {
     "data": {
      "text/plain": [
       "[0, 1, 2, 3, 4, 5]"
      ]
     },
     "execution_count": 2,
     "metadata": {},
     "output_type": "execute_result"
    }
   ],
   "source": [
    "a = range(0, 6, 1)\n",
    "list(filter(lambda i: i < 6, a))"
   ]
  },
  {
   "cell_type": "markdown",
   "metadata": {},
   "source": [
    "## Tuple (кортеж)\n",
    "\n",
    "* Неизменяемая структура данных\n",
    "* Полезны для работы с итеративными и рекурсивными алгоритмами"
   ]
  },
  {
   "cell_type": "code",
   "execution_count": 16,
   "metadata": {},
   "outputs": [
    {
     "name": "stdout",
     "output_type": "stream",
     "text": [
      "300\n",
      "True\n"
     ]
    }
   ],
   "source": [
    "c = ('Red','Green','Blue','Yellow', 345, (100, 200, 300), (1, 'a', True))\n",
    "print(max(c[5]), c[6][2], sep = '\\n' )\n"
   ]
  },
  {
   "cell_type": "markdown",
   "metadata": {},
   "source": [
    "P.S.  Использование неизменяемых структур данных вместо изменяемых(например, кортежи вместо списков) улучшает производительность (в особенности это касается\n",
    "обработки больших данных: неизменяемые структуры работают значительно быстрее, чем изменяемые )"
   ]
  },
  {
   "cell_type": "markdown",
   "metadata": {},
   "source": [
    "### Dictionary (словарь)\n",
    "\n",
    "Хранение данных в виде пар «ключ — значение» особенно полезно при работес распределенными алгоритмами"
   ]
  },
  {
   "cell_type": "code",
   "execution_count": 23,
   "metadata": {},
   "outputs": [
    {
     "name": "stdout",
     "output_type": "stream",
     "text": [
      "{'Anya': 'Akhmyatzanova', 'Kesha': 'Vilkova', 'Alisa': 'Kukvinova'}\n"
     ]
    }
   ],
   "source": [
    "girls = {\n",
    "    'Anya': 'Akhmyatzanova', #ключ: значение \n",
    "    'Kesha': 'Vilkova',\n",
    "    'Alisa': 'Kukvinova'\n",
    "}\n",
    "print(girls)"
   ]
  },
  {
   "cell_type": "code",
   "execution_count": 24,
   "metadata": {},
   "outputs": [
    {
     "data": {
      "text/plain": [
       "'Akhmyatzanova'"
      ]
     },
     "execution_count": 24,
     "metadata": {},
     "output_type": "execute_result"
    }
   ],
   "source": [
    "# получить значение, связанное с ключом\n",
    "#  используя get()\n",
    "girls.get('Anya')"
   ]
  },
  {
   "cell_type": "code",
   "execution_count": 25,
   "metadata": {},
   "outputs": [
    {
     "data": {
      "text/plain": [
       "'Akhmyatzanova'"
      ]
     },
     "execution_count": 25,
     "metadata": {},
     "output_type": "execute_result"
    }
   ],
   "source": [
    "# используя ключ в качестве индекса\n",
    "girls['Anya']"
   ]
  },
  {
   "cell_type": "code",
   "execution_count": 28,
   "metadata": {},
   "outputs": [
    {
     "name": "stdout",
     "output_type": "stream",
     "text": [
      "{'Anya': 'Ivanova', 'Kesha': 'Vilkova', 'Alisa': 'Kukvinova'}\n"
     ]
    }
   ],
   "source": [
    "# обновить значение, связанное с ключом\n",
    "girls['Anya'] = 'Ivanova'\n",
    "print(girls)"
   ]
  },
  {
   "cell_type": "markdown",
   "metadata": {},
   "source": [
    "### Set (множество/ коллекция элементов)\n"
   ]
  },
  {
   "cell_type": "code",
   "execution_count": 29,
   "metadata": {},
   "outputs": [
    {
     "name": "stdout",
     "output_type": "stream",
     "text": [
      "{'leaves', 'grass'}\n"
     ]
    }
   ],
   "source": [
    "green  = {'grass', 'leaves'} # set\n",
    "print(green)"
   ]
  },
  {
   "cell_type": "code",
   "execution_count": 38,
   "metadata": {},
   "outputs": [
    {
     "name": "stdout",
     "output_type": "stream",
     "text": [
      "{'leaves', 'rose', 'dandelions', 'blood', 'fire hydrant'}\n",
      "{'leaves', 'fire hydrant'}\n"
     ]
    }
   ],
   "source": [
    "#Операции над множествами\n",
    "yellow = {'dandelions', 'fire hydrant', 'leaves'}\n",
    "red = {'fire hydrant', 'blood', 'rose', 'leaves'}\n",
    "union = yellow|red # объединение\n",
    "intersection = yellow&red # пересечение\n",
    "print(union, intersection, sep = '\\n')"
   ]
  },
  {
   "cell_type": "markdown",
   "metadata": {},
   "source": [
    "### DataFrame\n",
    "\n",
    "Табличная структура данных (доступна в pandas)\n",
    "Используется для обработки классических структурированных данных\n",
    "\n",
    "В документации pandas один столбец или строка DataFrame называется осью (axis)\n",
    "\n",
    "\n",
    "DataFrame позволяет отмечать как столбцы, так и строки так называемой меткой (label)"
   ]
  },
  {
   "cell_type": "code",
   "execution_count": 55,
   "metadata": {},
   "outputs": [
    {
     "data": {
      "text/html": [
       "<div>\n",
       "<style scoped>\n",
       "    .dataframe tbody tr th:only-of-type {\n",
       "        vertical-align: middle;\n",
       "    }\n",
       "\n",
       "    .dataframe tbody tr th {\n",
       "        vertical-align: top;\n",
       "    }\n",
       "\n",
       "    .dataframe thead th {\n",
       "        text-align: right;\n",
       "    }\n",
       "</style>\n",
       "<table border=\"1\" class=\"dataframe\">\n",
       "  <thead>\n",
       "    <tr style=\"text-align: right;\">\n",
       "      <th></th>\n",
       "      <th>id</th>\n",
       "      <th>name</th>\n",
       "      <th>age</th>\n",
       "      <th>decision</th>\n",
       "    </tr>\n",
       "  </thead>\n",
       "  <tbody>\n",
       "    <tr>\n",
       "      <th>0</th>\n",
       "      <td>1</td>\n",
       "      <td>Fares</td>\n",
       "      <td>32</td>\n",
       "      <td>True</td>\n",
       "    </tr>\n",
       "    <tr>\n",
       "      <th>1</th>\n",
       "      <td>2</td>\n",
       "      <td>Elena</td>\n",
       "      <td>23</td>\n",
       "      <td>False</td>\n",
       "    </tr>\n",
       "    <tr>\n",
       "      <th>2</th>\n",
       "      <td>3</td>\n",
       "      <td>Steven</td>\n",
       "      <td>40</td>\n",
       "      <td>True</td>\n",
       "    </tr>\n",
       "  </tbody>\n",
       "</table>\n",
       "</div>"
      ],
      "text/plain": [
       "  id    name  age  decision\n",
       "0  1   Fares   32      True\n",
       "1  2   Elena   23     False\n",
       "2  3  Steven   40      True"
      ]
     },
     "execution_count": 55,
     "metadata": {},
     "output_type": "execute_result"
    }
   ],
   "source": [
    "import pandas as pd\n",
    "df = pd.DataFrame([ \n",
    "     ['1', 'Fares', 32, True],\n",
    "     ['2', 'Elena', 23, False],\n",
    "     ['3', 'Steven', 40, True]\n",
    "     ])\n",
    "df.columns = ['id', 'name', 'age', 'decision']\n",
    "df"
   ]
  },
  {
   "cell_type": "markdown",
   "metadata": {},
   "source": [
    "Создание подмножества DataFrame\n",
    "1) Выбор столбца"
   ]
  },
  {
   "cell_type": "code",
   "execution_count": 45,
   "metadata": {},
   "outputs": [
    {
     "data": {
      "text/html": [
       "<div>\n",
       "<style scoped>\n",
       "    .dataframe tbody tr th:only-of-type {\n",
       "        vertical-align: middle;\n",
       "    }\n",
       "\n",
       "    .dataframe tbody tr th {\n",
       "        vertical-align: top;\n",
       "    }\n",
       "\n",
       "    .dataframe thead th {\n",
       "        text-align: right;\n",
       "    }\n",
       "</style>\n",
       "<table border=\"1\" class=\"dataframe\">\n",
       "  <thead>\n",
       "    <tr style=\"text-align: right;\">\n",
       "      <th></th>\n",
       "      <th>name</th>\n",
       "      <th>age</th>\n",
       "    </tr>\n",
       "  </thead>\n",
       "  <tbody>\n",
       "    <tr>\n",
       "      <th>0</th>\n",
       "      <td>Fares</td>\n",
       "      <td>32</td>\n",
       "    </tr>\n",
       "    <tr>\n",
       "      <th>1</th>\n",
       "      <td>Elena</td>\n",
       "      <td>23</td>\n",
       "    </tr>\n",
       "    <tr>\n",
       "      <th>2</th>\n",
       "      <td>Steven</td>\n",
       "      <td>40</td>\n",
       "    </tr>\n",
       "  </tbody>\n",
       "</table>\n",
       "</div>"
      ],
      "text/plain": [
       "     name  age\n",
       "0   Fares   32\n",
       "1   Elena   23\n",
       "2  Steven   40"
      ]
     },
     "execution_count": 45,
     "metadata": {},
     "output_type": "execute_result"
    }
   ],
   "source": [
    "df[['name', 'age']]"
   ]
  },
  {
   "cell_type": "code",
   "execution_count": 56,
   "metadata": {},
   "outputs": [
    {
     "data": {
      "text/plain": [
       "0     True\n",
       "1    False\n",
       "2     True\n",
       "Name: decision, dtype: bool"
      ]
     },
     "execution_count": 56,
     "metadata": {},
     "output_type": "execute_result"
    }
   ],
   "source": [
    "df.iloc[ : , 3] # \":\" - все строки, 3й столбец"
   ]
  },
  {
   "cell_type": "markdown",
   "metadata": {},
   "source": [
    "2. Выбор строки"
   ]
  },
  {
   "cell_type": "code",
   "execution_count": 57,
   "metadata": {},
   "outputs": [
    {
     "data": {
      "text/html": [
       "<div>\n",
       "<style scoped>\n",
       "    .dataframe tbody tr th:only-of-type {\n",
       "        vertical-align: middle;\n",
       "    }\n",
       "\n",
       "    .dataframe tbody tr th {\n",
       "        vertical-align: top;\n",
       "    }\n",
       "\n",
       "    .dataframe thead th {\n",
       "        text-align: right;\n",
       "    }\n",
       "</style>\n",
       "<table border=\"1\" class=\"dataframe\">\n",
       "  <thead>\n",
       "    <tr style=\"text-align: right;\">\n",
       "      <th></th>\n",
       "      <th>id</th>\n",
       "      <th>name</th>\n",
       "      <th>age</th>\n",
       "      <th>decision</th>\n",
       "    </tr>\n",
       "  </thead>\n",
       "  <tbody>\n",
       "    <tr>\n",
       "      <th>1</th>\n",
       "      <td>2</td>\n",
       "      <td>Elena</td>\n",
       "      <td>23</td>\n",
       "      <td>False</td>\n",
       "    </tr>\n",
       "  </tbody>\n",
       "</table>\n",
       "</div>"
      ],
      "text/plain": [
       "  id   name  age  decision\n",
       "1  2  Elena   23     False"
      ]
     },
     "execution_count": 57,
     "metadata": {},
     "output_type": "execute_result"
    }
   ],
   "source": [
    "# получение подмножества по расположению\n",
    "df.iloc[1:2, :] "
   ]
  },
  {
   "cell_type": "code",
   "execution_count": 53,
   "metadata": {},
   "outputs": [
    {
     "data": {
      "text/html": [
       "<div>\n",
       "<style scoped>\n",
       "    .dataframe tbody tr th:only-of-type {\n",
       "        vertical-align: middle;\n",
       "    }\n",
       "\n",
       "    .dataframe tbody tr th {\n",
       "        vertical-align: top;\n",
       "    }\n",
       "\n",
       "    .dataframe thead th {\n",
       "        text-align: right;\n",
       "    }\n",
       "</style>\n",
       "<table border=\"1\" class=\"dataframe\">\n",
       "  <thead>\n",
       "    <tr style=\"text-align: right;\">\n",
       "      <th></th>\n",
       "      <th>id</th>\n",
       "      <th>name</th>\n",
       "      <th>age</th>\n",
       "      <th>desicion</th>\n",
       "    </tr>\n",
       "  </thead>\n",
       "  <tbody>\n",
       "    <tr>\n",
       "      <th>0</th>\n",
       "      <td>1</td>\n",
       "      <td>Fares</td>\n",
       "      <td>32</td>\n",
       "      <td>True</td>\n",
       "    </tr>\n",
       "    <tr>\n",
       "      <th>2</th>\n",
       "      <td>3</td>\n",
       "      <td>Steven</td>\n",
       "      <td>40</td>\n",
       "      <td>True</td>\n",
       "    </tr>\n",
       "  </tbody>\n",
       "</table>\n",
       "</div>"
      ],
      "text/plain": [
       "  id    name  age  desicion\n",
       "0  1   Fares   32      True\n",
       "2  3  Steven   40      True"
      ]
     },
     "execution_count": 53,
     "metadata": {},
     "output_type": "execute_result"
    }
   ],
   "source": [
    "# получение подмножества с помощью фильтра\n",
    "df[df.age > 30]"
   ]
  },
  {
   "cell_type": "code",
   "execution_count": 58,
   "metadata": {},
   "outputs": [
    {
     "data": {
      "text/html": [
       "<div>\n",
       "<style scoped>\n",
       "    .dataframe tbody tr th:only-of-type {\n",
       "        vertical-align: middle;\n",
       "    }\n",
       "\n",
       "    .dataframe tbody tr th {\n",
       "        vertical-align: top;\n",
       "    }\n",
       "\n",
       "    .dataframe thead th {\n",
       "        text-align: right;\n",
       "    }\n",
       "</style>\n",
       "<table border=\"1\" class=\"dataframe\">\n",
       "  <thead>\n",
       "    <tr style=\"text-align: right;\">\n",
       "      <th></th>\n",
       "      <th>id</th>\n",
       "      <th>name</th>\n",
       "      <th>age</th>\n",
       "      <th>decision</th>\n",
       "    </tr>\n",
       "  </thead>\n",
       "  <tbody>\n",
       "    <tr>\n",
       "      <th>0</th>\n",
       "      <td>1</td>\n",
       "      <td>Fares</td>\n",
       "      <td>32</td>\n",
       "      <td>True</td>\n",
       "    </tr>\n",
       "  </tbody>\n",
       "</table>\n",
       "</div>"
      ],
      "text/plain": [
       "  id   name  age  decision\n",
       "0  1  Fares   32      True"
      ]
     },
     "execution_count": 58,
     "metadata": {},
     "output_type": "execute_result"
    }
   ],
   "source": [
    "df[(df.age < 35)&(df.decision==True)]"
   ]
  },
  {
   "cell_type": "markdown",
   "metadata": {},
   "source": [
    "### Матрица"
   ]
  },
  {
   "cell_type": "code",
   "execution_count": 62,
   "metadata": {},
   "outputs": [
    {
     "name": "stdout",
     "output_type": "stream",
     "text": [
      "[[11 12 13]\n",
      " [21 22 23]\n",
      " [31 32 33]]\n",
      "\n",
      "<class 'numpy.ndarray'>\n"
     ]
    }
   ],
   "source": [
    "import numpy as np\n",
    "matrix = np.array([[11,12,13], [21,22,23], [31,32,33]]) #массив\n",
    "print(matrix, type(matrix), sep = '\\n\\n')\n"
   ]
  },
  {
   "cell_type": "markdown",
   "metadata": {},
   "source": [
    "### операции над матрицами\n",
    "Tранспонирование transpose() \n",
    "(строки и столбцы меняются местами)\n",
    "\n",
    "\n",
    "Транспонирование матрицы может быть полезным для обработки информации и выявления скрытых зависимостей, для оптимизации распределения данных в вычислительных системах\n",
    "\n",
    "\n",
    "P.S.  матричные операции часто используются при обработке мультимедийных данных"
   ]
  },
  {
   "cell_type": "code",
   "execution_count": 65,
   "metadata": {},
   "outputs": [
    {
     "data": {
      "text/plain": [
       "array([[11, 21, 31],\n",
       "       [12, 22, 32],\n",
       "       [13, 23, 33]])"
      ]
     },
     "execution_count": 65,
     "metadata": {},
     "output_type": "execute_result"
    }
   ],
   "source": [
    "matrix.transpose()"
   ]
  },
  {
   "cell_type": "markdown",
   "metadata": {},
   "source": [
    "\n",
    " <code class=\"lang-markdown\">АБСТРАКТНЫЕ ТИПЫ ДАННЫХ</code>\n",
    "\n",
    "* абстракция — принцип, используемый для определения\n",
    "сложных систем с точки зрения их общих базовых функций\n",
    "* Abstract Data Type (ADT) - универсальная, независимая от реализации структура данных\n",
    "* ADT - позволяет написать более простой и чистый код алгоритма, не углубляясь в детали разработки"
   ]
  },
  {
   "cell_type": "markdown",
   "metadata": {},
   "source": [
    "### Вектор\n",
    "одномерная структура"
   ]
  },
  {
   "cell_type": "code",
   "execution_count": 66,
   "metadata": {},
   "outputs": [
    {
     "name": "stdout",
     "output_type": "stream",
     "text": [
      "[22, 33, 44, 55]\n",
      "\n",
      "<class 'list'>\n"
     ]
    }
   ],
   "source": [
    "# cоздание вектора с помощью списка\n",
    "myVector = [22, 33, 44, 55]\n",
    "print(myVector, type(myVector), sep = '\\n\\n')"
   ]
  },
  {
   "cell_type": "code",
   "execution_count": 67,
   "metadata": {},
   "outputs": [
    {
     "name": "stdout",
     "output_type": "stream",
     "text": [
      "[22 33 44 55]\n",
      "\n",
      "<class 'numpy.ndarray'>\n"
     ]
    }
   ],
   "source": [
    "# создание вектора с помощью массива numpy\n",
    "myVector = np.array([22,33,44,55])\n",
    "print(myVector, type(myVector), sep = '\\n\\n')"
   ]
  },
  {
   "cell_type": "markdown",
   "metadata": {},
   "source": [
    "### Стек\n",
    "\n",
    "* Линейная структура данных для хранения одномерного списка\n",
    "\n",
    "\n",
    "Элементы в стеке могут обрабатываться по принципу \n",
    "* LIFO (LastIn, FirstOut: «последним пришел — первым ушел») \n",
    "*  FILO (FirstIn, LastOut: «первым пришел — последним ушел»)\n",
    "\n",
    "\n",
    "Порядок добавления и удаления элементов определяет характер стека. Новые элементы могут добавляться и удаляться только с одного конца списка\n",
    "\n",
    "\n",
    "Операции со стеками:\n",
    "* isEmpty. Возвращает true, если стек пуст;\n",
    "* push. Добавляет новый элемент;\n",
    "* pop. Возвращает элемент, добавленный последним, и удаляет его\n",
    "\n",
    "\n",
    "пример использования: хранение истории web-браузера, выполнение операций Undo при работе с текстом"
   ]
  },
  {
   "cell_type": "code",
   "execution_count": 3,
   "metadata": {},
   "outputs": [],
   "source": [
    "#создание класса\n",
    "class Stack:\n",
    "    def __init__(self):\n",
    "        self.items = []\n",
    "    def isEmpty(self):\n",
    "     return self.items == []\n",
    "    def push(self, item):\n",
    "        self.items.append(item)\n",
    "    def pop(self):\n",
    "        return self.items.pop()\n",
    "    def peek(self):\n",
    "        return self.items[len(self.items)-1]\n",
    "    def size(self):\n",
    "        return len(self.items) "
   ]
  },
  {
   "cell_type": "code",
   "execution_count": 4,
   "metadata": {},
   "outputs": [],
   "source": [
    "#добавление элементов в стек\n",
    "stack = Stack()\n",
    "stack.push('Red')\n",
    "stack.push('Green')\n",
    "stack.push('Blue')\n",
    "stack.push('Yellow')"
   ]
  },
  {
   "cell_type": "code",
   "execution_count": 11,
   "metadata": {},
   "outputs": [
    {
     "name": "stdout",
     "output_type": "stream",
     "text": [
      "Стек пуст?\n",
      "False\n",
      "Сколько элементов в стеке?\n",
      "4\n",
      "Последнее значение стека:\n",
      "Yellow\n"
     ]
    }
   ],
   "source": [
    "print('Стек пуст?', stack.isEmpty(), 'Сколько элементов в стеке?', stack.size(), 'Последнее значение стека:', stack.peek(), sep = '\\n')"
   ]
  },
  {
   "cell_type": "markdown",
   "metadata": {},
   "source": [
    "### Очередь \n",
    "* n элементов в одномерной структуре\n",
    "* Элементы добавляются и удаляются по принципу FIFO (первым пришёл - первым ушел)\n",
    "* каждая очередь имеет начало и конец\n",
    "*  удаление из очереди (из начала!) — dequeue\n",
    "* постановка в очередь (в конец!) — enqueue \n"
   ]
  },
  {
   "cell_type": "code",
   "execution_count": 12,
   "metadata": {},
   "outputs": [],
   "source": [
    "class Queue(object): #реализация очереди\n",
    "    def __init__(self):\n",
    "        self.items = []\n",
    "    def isEmpty(self):\n",
    "        return self.items == []\n",
    "    def enqueue(self, item):\n",
    "        self.items.insert(0,item)\n",
    "    def dequeue(self):\n",
    "        return self.items.pop()\n",
    "    def size(self):\n",
    "        return len(self.items)"
   ]
  },
  {
   "cell_type": "code",
   "execution_count": 13,
   "metadata": {},
   "outputs": [
    {
     "name": "stdout",
     "output_type": "stream",
     "text": [
      "Размер очереди:  4\n"
     ]
    }
   ],
   "source": [
    "queue = Queue()\n",
    "queue.enqueue('Red') #постановка в конец очереди\n",
    "queue.enqueue('Green')\n",
    "queue.enqueue('Blue')\n",
    "queue.enqueue('Yellow')\n",
    "print('Размер очереди: ',queue.size())\n"
   ]
  },
  {
   "cell_type": "code",
   "execution_count": 14,
   "metadata": {},
   "outputs": [
    {
     "name": "stdout",
     "output_type": "stream",
     "text": [
      "Red\n"
     ]
    }
   ],
   "source": [
    "print(queue.dequeue()) #удаление из начала"
   ]
  },
  {
   "cell_type": "code",
   "execution_count": 15,
   "metadata": {},
   "outputs": [
    {
     "name": "stdout",
     "output_type": "stream",
     "text": [
      "Green\n"
     ]
    }
   ],
   "source": [
    "print(queue.dequeue()) #удаление из начала"
   ]
  },
  {
   "cell_type": "markdown",
   "metadata": {},
   "source": [
    "| Стек | Очередь |\n",
    "|:----:|:-------:|\n",
    "|Мы складываем письма в стопку, и всякий раз, когда мы получае новое письмо, мы кладем его наверх. Когда мы хотим прочитать письма, мы на чинаем с того, которое лежит сверху. Стопка — это то, что мы называем стеком. Обратите внимание, что последнее поступившее письмо находится сверху и будет обработано первым. Взять письмо из верхней части стопки означает выполнить операцию pop. Положить новое письмо сверху — вы полнить операцию push. Если в итоге у нас получится большая стопка‚ а письма продолжат приходить, то есть вероятность, что мы никогда не до беремся до очень важного письма в самом низу. | Мы складываем письма в стопку, но сначала хотим открыть самое старое письмо: каждый раз, когда мы хотим просмотреть одно или несколько писем, мы начинаем с более старых. Это — очередь. Добавление письма в стопку — операция enqueue (постановка в очередь). Удаление письма из стопки — операция dequeue (удаление из очереди) |"
   ]
  },
  {
   "cell_type": "markdown",
   "metadata": {},
   "source": [
    "### Дерево\n",
    "Иерархическая структура данных\n",
    "* Каждое дерево имеет конечный набор узлов\n",
    "* Начальный элемент данных - корнь (root)\n",
    "* набор узлов, соединенных между собой ветвями (branches)"
   ]
  },
  {
   "cell_type": "markdown",
   "metadata": {},
   "source": [
    "| | |\n",
    "|-|-|\n",
    "|Корневой узел (Root node)|узел без родителя |\n",
    "|Уровень узла (Level of a node)|расстояние от корневого узла |\n",
    "|Узлы-братья (Siblings nodes) |расположены на одном уровне|\n",
    "|Дочерний и родительский узлы (Child and parent node)|напрямую связаны и уровень одного узла меньше уровня другого узла|\n",
    "|Степень дерева (Degree of a tree)| максимальная степень составляющих его узлов| \n",
    "|Поддерево (Subtree)|часть дерева с выбранным узлом в качестве корневого‚ а все его дочерние элементы — это узлы дерева|\n",
    "| Концевой узел (Leaf node)| узел в дереве без дочерних элементов |\n",
    "| Внутренний узел (Internal node)| любой узел, который не является ни корневым, ни концевым; имеются по крайней мере один родительский и один дочерний узлы |"
   ]
  },
  {
   "cell_type": "markdown",
   "metadata": {},
   "source": [
    "| Типы деревьев | Описание |\n",
    "|---------------|----------|\n",
    "|Двоичное дерево (binary tree)|тепень дерева равна двум|\n",
    "|Полное дерево (full tree)|все узлы имеют одинаковую степень, которая равна степени дерева|\n",
    "|Идеальное дерево (perfect tree)|особый тип полного дерева, у которого все конечные узлы расположены на одном уровне|"
   ]
  },
  {
   "cell_type": "code",
   "execution_count": 17,
   "metadata": {},
   "outputs": [],
   "source": [
    "class Tree: #создание дерева\n",
    "    def __init__(self, cargo, left=None, right=None):\n",
    "        self.cargo = cargo\n",
    "        self.left  = left\n",
    "        self.right = right\n",
    "\n",
    "    def __str__(self):\n",
    "        return str(self.cargo)"
   ]
  },
  {
   "cell_type": "code",
   "execution_count": 19,
   "metadata": {},
   "outputs": [],
   "source": [
    "left = Tree(2) #создание дочерних узлов\n",
    "right = Tree(3)\n",
    "# создание родительского узла и связка его с дочерним\n",
    "tree = Tree(1, left, right) \n"
   ]
  },
  {
   "cell_type": "code",
   "execution_count": 20,
   "metadata": {},
   "outputs": [],
   "source": [
    "#обход дерева \n",
    "def total(tree): \n",
    "    if tree == None: return 0\n",
    "    return total(tree.left) + total(tree.right) + tree.cargo"
   ]
  },
  {
   "cell_type": "code",
   "execution_count": null,
   "metadata": {},
   "outputs": [],
   "source": []
  }
 ],
 "metadata": {
  "kernelspec": {
   "display_name": "Python 3",
   "language": "python",
   "name": "python3"
  },
  "language_info": {
   "codemirror_mode": {
    "name": "ipython",
    "version": 3
   },
   "file_extension": ".py",
   "mimetype": "text/x-python",
   "name": "python",
   "nbconvert_exporter": "python",
   "pygments_lexer": "ipython3",
   "version": "3.10.12"
  }
 },
 "nbformat": 4,
 "nbformat_minor": 2
}
