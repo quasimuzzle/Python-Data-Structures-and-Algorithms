{
 "cells": [
  {
   "cell_type": "markdown",
   "metadata": {},
   "source": [
    "### <code class=\"lang-markdown\">АЛГОРИТМЫ СОРТИРОВКИ</code>"
   ]
  },
  {
   "cell_type": "code",
   "execution_count": 5,
   "metadata": {},
   "outputs": [
    {
     "name": "stdout",
     "output_type": "stream",
     "text": [
      "45 777\n"
     ]
    }
   ],
   "source": [
    "# Обмен значений двух переменных\n",
    "var1, var2 = 777, 45\n",
    "var1, var2 = var2, var1\n",
    "print(var1, var2)\n"
   ]
  },
  {
   "cell_type": "markdown",
   "metadata": {},
   "source": [
    "### Сортировка пузырьком (Bubble sort) \n"
   ]
  },
  {
   "cell_type": "code",
   "execution_count": 15,
   "metadata": {},
   "outputs": [
    {
     "name": "stdout",
     "output_type": "stream",
     "text": [
      "0 | [25, 21, 22, 24, 23, 27, 26]\n",
      "1 | [21, 25, 22, 24, 23, 27, 26]\n",
      "2 | [21, 22, 25, 24, 23, 27, 26]\n",
      "3 | [21, 22, 24, 25, 23, 27, 26]\n",
      "4 | [21, 22, 24, 23, 25, 27, 26]\n",
      "5 | [21, 22, 24, 23, 25, 27, 26]\n",
      "6 | [21, 22, 24, 23, 25, 26, 27]\n"
     ]
    }
   ],
   "source": [
    "list = [25, 21, 22, 24, 23, 27, 26]\n",
    "\n",
    "# первый проход сортировки пузырьком\n",
    "\n",
    "lastElementIndex = len(list) - 1\n",
    "print(0, list, sep = ' | ')\n",
    "for i in range(lastElementIndex):\n",
    "    if list[i]>list[i+1]:\n",
    "        list[i], list[i+1]=list[i+1], list[i]\n",
    "    print(i+1, list, sep = ' | ')"
   ]
  },
  {
   "cell_type": "code",
   "execution_count": 6,
   "metadata": {},
   "outputs": [
    {
     "data": {
      "text/plain": [
       "[21, 22, 23, 24, 25, 27, 26]"
      ]
     },
     "execution_count": 6,
     "metadata": {},
     "output_type": "execute_result"
    }
   ],
   "source": [
    "list = [25, 21, 22, 24, 23, 27, 26]\n",
    "\n",
    "def Bubblesort(list):  #реализация алгоритма пузырьковой сортировки\n",
    "    lastElementIndex = len(list)-1\n",
    "    for passNo in range(lastElementIndex, 0, -1):\n",
    "        for passNo in range(passNo):\n",
    "            for idx in range(passNo):\n",
    "                if list[idx]>list[idx+1]:\n",
    "                    list[idx], list[idx+1]=list[idx+1],list[idx]\n",
    "        return list\n",
    "\n",
    "Bubblesort(list) "
   ]
  },
  {
   "cell_type": "code",
   "execution_count": null,
   "metadata": {},
   "outputs": [],
   "source": []
  },
  {
   "cell_type": "code",
   "execution_count": null,
   "metadata": {},
   "outputs": [],
   "source": []
  }
 ],
 "metadata": {
  "kernelspec": {
   "display_name": "Python 3",
   "language": "python",
   "name": "python3"
  },
  "language_info": {
   "codemirror_mode": {
    "name": "ipython",
    "version": 3
   },
   "file_extension": ".py",
   "mimetype": "text/x-python",
   "name": "python",
   "nbconvert_exporter": "python",
   "pygments_lexer": "ipython3",
   "version": "3.10.12"
  }
 },
 "nbformat": 4,
 "nbformat_minor": 2
}
