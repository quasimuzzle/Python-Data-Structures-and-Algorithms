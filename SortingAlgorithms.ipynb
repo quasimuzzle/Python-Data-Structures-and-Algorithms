{
 "cells": [
  {
   "cell_type": "markdown",
   "metadata": {},
   "source": [
    "### <code class=\"lang-markdown\">АЛГОРИТМЫ СОРТИРОВКИ\n",
    "\n",
    "* сортировка пузырьком (bubble sort);\n",
    "* сортировка вставками (insertion sort);\n",
    "* сортировка слиянием (merge sort);\n",
    "* сортировка Шелла (Shell sort);\n",
    "* сортировка выбором (selection sort)</code>"
   ]
  },
  {
   "cell_type": "code",
   "execution_count": 5,
   "metadata": {},
   "outputs": [
    {
     "name": "stdout",
     "output_type": "stream",
     "text": [
      "45 777\n"
     ]
    }
   ],
   "source": [
    "# Обмен значений двух переменных\n",
    "var1, var2 = 777, 45\n",
    "var1, var2 = var2, var1\n",
    "print(var1, var2)\n"
   ]
  },
  {
   "cell_type": "markdown",
   "metadata": {},
   "source": [
    "### Сортировка пузырьком (Bubble sort) \n"
   ]
  },
  {
   "cell_type": "code",
   "execution_count": 20,
   "metadata": {},
   "outputs": [
    {
     "name": "stdout",
     "output_type": "stream",
     "text": [
      "0 | [25, 21, 22, 24, 23, 27, 26]\n",
      "1 | [21, 25, 22, 24, 23, 27, 26]\n",
      "2 | [21, 22, 25, 24, 23, 27, 26]\n",
      "3 | [21, 22, 24, 25, 23, 27, 26]\n",
      "4 | [21, 22, 24, 23, 25, 27, 26]\n",
      "5 | [21, 22, 24, 23, 25, 27, 26]\n",
      "6 | [21, 22, 24, 23, 25, 26, 27]\n"
     ]
    }
   ],
   "source": [
    "l = [25, 21, 22, 24, 23, 27, 26]\n",
    "\n",
    "# первый проход сортировки пузырьком (наибольшее значение оказывается в конце списка)\n",
    "\n",
    "lastElementIndex = len(l) - 1\n",
    "print(0, l, sep = ' | ')\n",
    "for i in range(lastElementIndex):\n",
    "    if l[i]>l[i+1]:\n",
    "        l[i], l[i+1]=l[i+1], l[i]\n",
    "    print(i+1, l, sep = ' | ')"
   ]
  },
  {
   "cell_type": "markdown",
   "metadata": {},
   "source": [
    "Чтобы полностью отсортировать список алгоритму понадобится N-1 итераций для списка размером N \n",
    "\n",
    "\n",
    "Теперь нам нужно поместить второе по величине значение на предпоследнюю позицию ( и т.д.) :"
   ]
  },
  {
   "cell_type": "code",
   "execution_count": 75,
   "metadata": {},
   "outputs": [
    {
     "name": "stdout",
     "output_type": "stream",
     "text": [
      "  21   22   23   24   25   26   27 "
     ]
    }
   ],
   "source": [
    "#  реализация алгоритма пузырьковой сортировки\n",
    "def bubbleSort(array):\n",
    "  for i in range(len(array)):\n",
    "    for j in range(0, len(array) - i - 1):\n",
    "      if array[j] > array[j + 1]:\n",
    "        array[j], array[j+1] = array[j+1], array[j]\n",
    "\n",
    "data = [25, 21, 22, 24, 23, 27, 26]\n",
    "\n",
    "bubbleSort(data)\n",
    "for i in range(len(data)):\n",
    "  print(' % d' % data[i], end = ' ')"
   ]
  },
  {
   "cell_type": "code",
   "execution_count": 80,
   "metadata": {},
   "outputs": [
    {
     "data": {
      "text/plain": [
       "[21, 22, 23, 24, 25, 26, 27]"
      ]
     },
     "execution_count": 80,
     "metadata": {},
     "output_type": "execute_result"
    }
   ],
   "source": [
    "def BubbleSort(l):  \n",
    "    for x in range(len(l), 0, -1):\n",
    "        for x in range(x):\n",
    "            for i in range(x):\n",
    "                if l[i]>l[i+1]:\n",
    "                    l[i], l[i+1]=l[i+1],l[i]\n",
    "        return l\n",
    "    \n",
    "l = [25, 21, 22, 24, 23, 27, 26]\n",
    "\n",
    "BubbleSort(l) "
   ]
  }
 ],
 "metadata": {
  "kernelspec": {
   "display_name": "Python 3",
   "language": "python",
   "name": "python3"
  },
  "language_info": {
   "codemirror_mode": {
    "name": "ipython",
    "version": 3
   },
   "file_extension": ".py",
   "mimetype": "text/x-python",
   "name": "python",
   "nbconvert_exporter": "python",
   "pygments_lexer": "ipython3",
   "version": "3.10.12"
  }
 },
 "nbformat": 4,
 "nbformat_minor": 2
}
